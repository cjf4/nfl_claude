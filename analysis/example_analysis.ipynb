{
 "cells": [
  {
   "cell_type": "markdown",
   "metadata": {},
   "source": [
    "# NFL Data Analysis Example\n",
    "\n",
    "This notebook shows how to connect to the NFL database and perform basic analysis."
   ]
  },
  {
   "cell_type": "code",
   "execution_count": 17,
   "metadata": {},
   "outputs": [],
   "source": [
    "import duckdb\n",
    "import pandas as pd\n",
    "import matplotlib.pyplot as plt\n",
    "import seaborn as sns\n",
    "from pathlib import Path\n",
    "\n",
    "# Set up plotting\n",
    "plt.style.use('seaborn-v0_8')\n",
    "sns.set_palette('husl')"
   ]
  },
  {
   "cell_type": "code",
   "execution_count": 23,
   "metadata": {},
   "outputs": [
    {
     "name": "stdout",
     "output_type": "stream",
     "text": [
      "Total plays in database: 1,230,855\n",
      "\n",
      "Seasons available:\n",
      "  1999: 46,136 plays\n",
      "  2000: 45,491 plays\n",
      "  2001: 44,969 plays\n",
      "  2002: 47,355 plays\n",
      "  2003: 46,811 plays\n",
      "  2004: 46,705 plays\n",
      "  2005: 46,823 plays\n",
      "  2006: 46,299 plays\n",
      "  2007: 46,266 plays\n",
      "  2008: 45,917 plays\n",
      "  2009: 46,519 plays\n",
      "  2010: 46,892 plays\n",
      "  2011: 47,448 plays\n",
      "  2012: 47,834 plays\n",
      "  2013: 48,158 plays\n",
      "  2014: 47,629 plays\n",
      "  2015: 48,122 plays\n",
      "  2016: 47,651 plays\n",
      "  2017: 47,245 plays\n",
      "  2018: 47,109 plays\n",
      "  2019: 47,258 plays\n",
      "  2020: 47,705 plays\n",
      "  2021: 49,922 plays\n",
      "  2022: 49,434 plays\n",
      "  2023: 49,665 plays\n",
      "  2024: 49,492 plays\n"
     ]
    }
   ],
   "source": [
    "# Connect to the NFL database\n",
    "db_path = Path('../data/nfl.duckdb')\n",
    "conn = duckdb.connect(str(db_path))\n",
    "\n",
    "# Quick check - how much data do we have?\n",
    "result = conn.execute('SELECT COUNT(*) as total_plays FROM pbp').fetchone()\n",
    "print(f\"Total plays in database: {result[0]:,}\")\n",
    "\n",
    "# Check seasons available\n",
    "seasons = conn.execute('SELECT season, COUNT(*) as plays FROM pbp GROUP BY season ORDER BY season').fetchall()\n",
    "print(\"\\nSeasons available:\")\n",
    "for season, plays in seasons:\n",
    "    print(f\"  {season}: {plays:,} plays\")"
   ]
  },
  {
   "cell_type": "code",
   "execution_count": 22,
   "metadata": {},
   "outputs": [],
   "source": [
    "# Close connection\n",
    "conn.close()"
   ]
  }
 ],
 "metadata": {
  "kernelspec": {
   "display_name": "nfl_env",
   "language": "python",
   "name": "python3"
  },
  "language_info": {
   "codemirror_mode": {
    "name": "ipython",
    "version": 3
   },
   "file_extension": ".py",
   "mimetype": "text/x-python",
   "name": "python",
   "nbconvert_exporter": "python",
   "pygments_lexer": "ipython3",
   "version": "3.9.6"
  }
 },
 "nbformat": 4,
 "nbformat_minor": 4
}
