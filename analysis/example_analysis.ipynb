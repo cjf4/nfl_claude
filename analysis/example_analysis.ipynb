{
 "cells": [
  {
   "cell_type": "markdown",
   "metadata": {},
   "source": [
    "# NFL Data Analysis Example\n",
    "\n",
    "This notebook shows how to connect to the NFL database and perform basic analysis."
   ]
  },
  {
   "cell_type": "code",
   "execution_count": null,
   "metadata": {},
   "outputs": [],
   "source": [
    "import duckdb\n",
    "import pandas as pd\n",
    "import matplotlib.pyplot as plt\n",
    "import seaborn as sns\n",
    "from pathlib import Path\n",
    "\n",
    "# Set up plotting\n",
    "plt.style.use('seaborn-v0_8')\n",
    "sns.set_palette('husl')"
   ]
  },
  {
   "cell_type": "code",
   "execution_count": null,
   "metadata": {},
   "outputs": [],
   "source": [
    "# Connect to the NFL database\n",
    "db_path = Path('../data/nfl.duckdb')\n",
    "conn = duckdb.connect(str(db_path))\n",
    "\n",
    "# Quick check - how much data do we have?\n",
    "result = conn.execute('SELECT COUNT(*) as total_plays FROM pbp_all').fetchone()\n",
    "print(f\"Total plays in database: {result[0]:,}\")\n",
    "\n",
    "# Check seasons available\n",
    "seasons = conn.execute('SELECT season, COUNT(*) as plays FROM pbp_all GROUP BY season ORDER BY season').fetchall()\n",
    "print(\"\\nSeasons available:\")\n",
    "for season, plays in seasons:\n",
    "    print(f\"  {season}: {plays:,} plays\")"
   ]
  },
  {
   "cell_type": "code",
   "execution_count": null,
   "metadata": {},
   "outputs": [],
   "source": [
    "# Simple analysis: EPA by team across all seasons\n",
    "query = \"\"\"\n",
    "SELECT \n",
    "    posteam as team,\n",
    "    season,\n",
    "    AVG(epa) as avg_epa,\n",
    "    COUNT(*) as total_plays\n",
    "FROM pbp_all \n",
    "WHERE posteam IS NOT NULL\n",
    "GROUP BY posteam, season\n",
    "ORDER BY season, avg_epa DESC\n",
    "\"\"\"\n",
    "\n",
    "df_epa = conn.execute(query).df()\n",
    "print(\"Average EPA by team and season:\")\n",
    "print(df_epa.head(10))"
   ]
  },
  {
   "cell_type": "code",
   "execution_count": null,
   "metadata": {},
   "outputs": [],
   "source": [
    "# Visualize EPA trends over time\n",
    "plt.figure(figsize=(12, 6))\n",
    "\n",
    "# Group by season and team for line plot\n",
    "for team in df_epa['team'].unique():\n",
    "    team_data = df_epa[df_epa['team'] == team]\n",
    "    plt.plot(team_data['season'], team_data['avg_epa'], marker='o', label=team)\n",
    "\n",
    "plt.title('Average EPA by Team Over Seasons (2020-2024)')\n",
    "plt.xlabel('Season')\n",
    "plt.ylabel('Average EPA')\n",
    "plt.legend()\n",
    "plt.grid(True, alpha=0.3)\n",
    "plt.tight_layout()\n",
    "plt.show()"
   ]
  },
  {
   "cell_type": "code",
   "execution_count": null,
   "metadata": {},
   "outputs": [],
   "source": [
    "# Close connection\n",
    "conn.close()"
   ]
  }
 ],
 "metadata": {
  "kernelspec": {
   "display_name": "nfl_app",
   "language": "python",
   "name": "python3"
  },
  "language_info": {
   "codemirror_mode": {
    "name": "ipython",
    "version": 3
   },
   "file_extension": ".py",
   "mimetype": "text/x-python",
   "name": "python",
   "nbconvert_exporter": "python",
   "pygments_lexer": "ipython3",
   "version": "3.9.6"
  }
 },
 "nbformat": 4,
 "nbformat_minor": 4
}
